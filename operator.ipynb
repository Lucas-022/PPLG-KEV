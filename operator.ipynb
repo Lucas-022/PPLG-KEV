{
  "nbformat": 4,
  "nbformat_minor": 0,
  "metadata": {
    "colab": {
      "provenance": [],
      "authorship_tag": "ABX9TyN6gOJzL4Ab0h++eAJMCjoO",
      "include_colab_link": true
    },
    "kernelspec": {
      "name": "python3",
      "display_name": "Python 3"
    },
    "language_info": {
      "name": "python"
    }
  },
  "cells": [
    {
      "cell_type": "markdown",
      "metadata": {
        "id": "view-in-github",
        "colab_type": "text"
      },
      "source": [
        "<a href=\"https://colab.research.google.com/github/Yuxi-chan/No-Name/blob/main/operator.ipynb\" target=\"_parent\"><img src=\"https://colab.research.google.com/assets/colab-badge.svg\" alt=\"Open In Colab\"/></a>"
      ]
    },
    {
      "cell_type": "code",
      "execution_count": 35,
      "metadata": {
        "colab": {
          "base_uri": "https://localhost:8080/"
        },
        "id": "0xNoAZ45BlWn",
        "outputId": "3b44875a-0833-42b6-b930-29a01449adc7"
      },
      "outputs": [
        {
          "output_type": "stream",
          "name": "stdout",
          "text": [
            "10\n",
            "9\n",
            "8\n",
            "10.0\n",
            "0\n",
            "25\n",
            "4\n",
            "4\n",
            "45\n",
            "-15\n",
            "80\n",
            "3.0517578125000005e-19\n",
            "False\n",
            "True\n",
            "True\n",
            "True\n",
            "False\n",
            "False\n",
            "False\n",
            "True\n"
          ]
        },
        {
          "output_type": "execute_result",
          "data": {
            "text/plain": [
              "True"
            ]
          },
          "metadata": {},
          "execution_count": 35
        }
      ],
      "source": [
        "# operator aritmatika\n",
        "\n",
        "# pertambahan\n",
        "a = 8\n",
        "b = 2\n",
        "c = a+b\n",
        "print(c)\n",
        "\n",
        "# pengurangan\n",
        "a = 15\n",
        "b = 6\n",
        "c = a-b\n",
        "print(c)\n",
        "\n",
        "# perkalian\n",
        "a = 4\n",
        "b = 2\n",
        "c = a*b\n",
        "print(c)\n",
        "\n",
        "# pembagian\n",
        "a = 20\n",
        "b = 2\n",
        "c = a/b\n",
        "print(c)\n",
        "\n",
        "# persen\n",
        "a = 20\n",
        "b = 5\n",
        "c = a%b\n",
        "print(c)\n",
        "\n",
        "# exponentaion\n",
        "a = 5\n",
        "b = 2\n",
        "c = a**b\n",
        "print(c)\n",
        "\n",
        "# floor division\n",
        "a = 20\n",
        "b = 5\n",
        "c = a//b\n",
        "print(c)\n",
        "\n",
        "# assignment\n",
        "a = 25\n",
        "print(c)\n",
        "\n",
        "# addition shorthand\n",
        "a += 20\n",
        "print(a)\n",
        "\n",
        "# substraction shorthand\n",
        "b -= 20\n",
        "print(b)\n",
        "\n",
        "# multiplication shorthand\n",
        "c *= 20\n",
        "print(c)\n",
        "\n",
        "# division shorthand\n",
        "d /= 20\n",
        "print(d)\n",
        "\n",
        "# equal\n",
        "a = 20\n",
        "b = 10\n",
        "print(a==b)\n",
        "\n",
        "# not equal\n",
        "a = 20\n",
        "b = 10\n",
        "print(a!=b)\n",
        "\n",
        "# greater than\n",
        "a = 20\n",
        "b = 10\n",
        "print(a>b)\n",
        "\n",
        "# less than\n",
        "a = 10\n",
        "b = 20\n",
        "print(a<b)\n",
        "\n",
        "# greater than or equal to\n",
        "a = 10\n",
        "b = 20\n",
        "print(a>=b)\n",
        "\n",
        "# less than or equal to\n",
        "a = 20\n",
        "b = 10\n",
        "print(a<=b)\n",
        "\n",
        "# true if both statements are true\n",
        "a = 20\n",
        "b = 10\n",
        "print(a < 10 and b > 20)\n",
        "\n",
        "# true if eiter statements are true\n",
        "a = 10\n",
        "b = 20\n",
        "print(a < 20 or b > 10)\n",
        "\n",
        "# reverses the result. if result is true than false and vice versa\n",
        "a = 25\n",
        "not(a<5)"
      ]
    }
  ]
}