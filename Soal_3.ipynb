{
  "nbformat": 4,
  "nbformat_minor": 0,
  "metadata": {
    "colab": {
      "provenance": [],
      "authorship_tag": "ABX9TyOHZORAkH/QfCsGOhcq35/h",
      "include_colab_link": true
    },
    "kernelspec": {
      "name": "python3",
      "display_name": "Python 3"
    },
    "language_info": {
      "name": "python"
    }
  },
  "cells": [
    {
      "cell_type": "markdown",
      "metadata": {
        "id": "view-in-github",
        "colab_type": "text"
      },
      "source": [
        "<a href=\"https://colab.research.google.com/github/Yuxi-chan/PPLG-KEV/blob/main/Soal_3.ipynb\" target=\"_parent\"><img src=\"https://colab.research.google.com/assets/colab-badge.svg\" alt=\"Open In Colab\"/></a>"
      ]
    },
    {
      "cell_type": "markdown",
      "source": [
        " 3. Buatlah sebuah game sederhana menggunakan bahasa python beserta algoritma dan flowchartnya?\n"
      ],
      "metadata": {
        "id": "bEnungDPaTk1"
      }
    },
    {
      "cell_type": "code",
      "source": [
        "import random\n",
        "\n",
        "def main():\n",
        "    angka_tebakan = random.randint(1, 10)\n",
        "    jumlah_percobaan = 0\n",
        "\n",
        "    while jumlah_percobaan < 5:\n",
        "        tebakan = int(input(\"Tebak angka (1-10): \"))\n",
        "        jumlah_percobaan += 1\n",
        "\n",
        "        if tebakan == angka_tebakan:\n",
        "            print(f\"Selamat! Anda menebak dengan benar dalam {jumlah_percobaan} percobaan.\")\n",
        "            break\n",
        "        elif tebakan < angka_tebakan:\n",
        "            print(\"Tebakan terlalu kecil.\")\n",
        "        else:\n",
        "            print(\"Tebakan terlalu besar.\")\n",
        "\n",
        "    if jumlah_percobaan == 5:\n",
        "        print(f\"Anda kalah! Angka yang benar adalah {angka_tebakan}.\")\n",
        "\n",
        "if __name__ == \"__main__\":\n",
        "    main()\n"
      ],
      "metadata": {
        "id": "-gDRfoW1aWHR"
      },
      "execution_count": null,
      "outputs": []
    },
    {
      "cell_type": "markdown",
      "source": [
        "# Algoritma:\n",
        "- Input data.\n",
        "- Anda harus memasukan angka.\n",
        "- Hasil akan muncul kalau anda benar."
      ],
      "metadata": {
        "id": "sb5WgiajtBSV"
      }
    },
    {
      "cell_type": "markdown",
      "source": [
        "![Blank diagram (3).png](data:image/png;base64,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)"
      ],
      "metadata": {
        "id": "6j1eZ8HZ6nmX"
      }
    }
  ]
}