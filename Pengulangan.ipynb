{
  "nbformat": 4,
  "nbformat_minor": 0,
  "metadata": {
    "colab": {
      "provenance": [],
      "authorship_tag": "ABX9TyO8yUUz2o6kRFPDcv5Davc+",
      "include_colab_link": true
    },
    "kernelspec": {
      "name": "python3",
      "display_name": "Python 3"
    },
    "language_info": {
      "name": "python"
    }
  },
  "cells": [
    {
      "cell_type": "markdown",
      "metadata": {
        "id": "view-in-github",
        "colab_type": "text"
      },
      "source": [
        "<a href=\"https://colab.research.google.com/github/Yuxi-chan/apa-aja/blob/main/Pengulangan.ipynb\" target=\"_parent\"><img src=\"https://colab.research.google.com/assets/colab-badge.svg\" alt=\"Open In Colab\"/></a>"
      ]
    },
    {
      "cell_type": "markdown",
      "source": [
        "# **For loops**\n",
        "Metode lain yang berguna dalam bahasa pemrograman Python adalah iterator. Hal ini sangat membantu jika Anda ingin melakukan sesuatu beberapa kali.\n",
        "\n",
        "\n"
      ],
      "metadata": {
        "id": "3KSr2apitJ9J"
      }
    },
    {
      "cell_type": "code",
      "source": [
        "print(\"Hai\")\n",
        "print(\"Hai\")\n",
        "print(\"Hai\")"
      ],
      "metadata": {
        "colab": {
          "base_uri": "https://localhost:8080/"
        },
        "id": "mAdlq6VpvNR-",
        "outputId": "191740c3-3bef-4b45-b8bf-072055bef727"
      },
      "execution_count": 1,
      "outputs": [
        {
          "output_type": "stream",
          "name": "stdout",
          "text": [
            "Hai\n",
            "Hai\n",
            "Hai\n"
          ]
        }
      ]
    },
    {
      "cell_type": "markdown",
      "source": [
        "Dapat dibayangkan jika kita ingin menulis kata \"Hai\" sebanyak seribu kali, tentu kode program kita akan sangat sulit untuk di baca, selain itu, kemungkinan terjadinya kesalahan sangat lah besar. Oleh karena itu, kita dapat menggunakan suatu cara yang disebut loop atau iterator. Ada dua cara untuk menjalankan perintah tersebut, yaitu dengan for atau while loop.\n",
        "Pada contoh kali ini, kita akan menggunakan metode range. Metode ini yang menentukan rentang loop seberapa banyak perintah harus di ulang. Secara default, titik awalnya adalah 0."
      ],
      "metadata": {
        "id": "dRSoU6klvWQi"
      }
    },
    {
      "cell_type": "code",
      "source": [
        "for i in range(3):\n",
        "   print(\"Hai\")"
      ],
      "metadata": {
        "colab": {
          "base_uri": "https://localhost:8080/"
        },
        "id": "k2Gag_novacf",
        "outputId": "8ed2cec9-a7ae-40e7-ffcc-e3e5fc86bdec"
      },
      "execution_count": 2,
      "outputs": [
        {
          "output_type": "stream",
          "name": "stdout",
          "text": [
            "Hai\n",
            "Hai\n",
            "Hai\n"
          ]
        }
      ]
    },
    {
      "cell_type": "markdown",
      "source": [
        "Contoh lainnya jika kita ingin membuat rentang yang berbeda, maka kita dapat menggunakan range(1,3).\n",
        "\n"
      ],
      "metadata": {
        "id": "4-yksEbFtK4Z"
      }
    },
    {
      "cell_type": "code",
      "source": [
        "for i in range(1,3):\n",
        "   print(\"Hai\")"
      ],
      "metadata": {
        "colab": {
          "base_uri": "https://localhost:8080/"
        },
        "id": "G6oDpVCPvhJ4",
        "outputId": "df8004c8-779b-4700-b110-3de0f96ab5d6"
      },
      "execution_count": 3,
      "outputs": [
        {
          "output_type": "stream",
          "name": "stdout",
          "text": [
            "Hai\n",
            "Hai\n"
          ]
        }
      ]
    },
    {
      "cell_type": "markdown",
      "source": [
        "\"Hai\" hanya tercetak dua kali karena kita telah menentukan rentang dari angka 1 hingga 3. Sederhananya kita dapat mengurangi angka sebelah kanan dengan sebelah kiri."
      ],
      "metadata": {
        "id": "yyGVYpfWtRt-"
      }
    },
    {
      "cell_type": "markdown",
      "source": [
        "Kita pun dapat menambahkan perintah lain setelah loop selesai, seperti pada contoh di bawah ini:\n",
        "\n"
      ],
      "metadata": {
        "id": "aWLI0YC3tYHi"
      }
    },
    {
      "cell_type": "code",
      "source": [
        "for i in range(3):\n",
        "  print(\"Hai\")\n",
        "else:\n",
        "  print(\"Selesai\")"
      ],
      "metadata": {
        "colab": {
          "base_uri": "https://localhost:8080/"
        },
        "id": "yL9js7YCvuOo",
        "outputId": "3270295e-d694-4c65-b4eb-afe2179ee411"
      },
      "execution_count": 4,
      "outputs": [
        {
          "output_type": "stream",
          "name": "stdout",
          "text": [
            "Hai\n",
            "Hai\n",
            "Hai\n",
            "Selesai\n"
          ]
        }
      ]
    },
    {
      "cell_type": "markdown",
      "source": [
        "Dapat kita lihat bahwa loop telah melakukan iterasi sebanyak 3 kali ( 3 - 0 ). Setelah iterasi selesai, tahap selanjutnya adalah mengeksekusi statement else.\n"
      ],
      "metadata": {
        "id": "TZ_5Rgt3tasu"
      }
    },
    {
      "cell_type": "markdown",
      "source": [
        "Selain itu kita pun dapat melakukan nesting for loop di dalam for loop yang lain.\n"
      ],
      "metadata": {
        "id": "6WwenD2ytd9r"
      }
    },
    {
      "cell_type": "code",
      "source": [
        "for i in range(3):\n",
        "     for j in range(2):\n",
        "        print(\"loop di dalam\")\n",
        "     print(\"loop di luar\")"
      ],
      "metadata": {
        "colab": {
          "base_uri": "https://localhost:8080/"
        },
        "id": "GULWz57zwIko",
        "outputId": "452e4de2-f82a-4014-e7c8-fc047ff5677a"
      },
      "execution_count": 5,
      "outputs": [
        {
          "output_type": "stream",
          "name": "stdout",
          "text": [
            "loop di dalam\n",
            "loop di dalam\n",
            "loop di luar\n",
            "loop di dalam\n",
            "loop di dalam\n",
            "loop di luar\n",
            "loop di dalam\n",
            "loop di dalam\n",
            "loop di luar\n"
          ]
        }
      ]
    },
    {
      "cell_type": "markdown",
      "source": [
        "Dapat kita lihat bersama bahwa statement \"loop di dalam\" tereksekusi dua kali. Setelah itu \"loop di luar\" di eksekusi satu kali. Lalu, \"loop di dalam\" di eksekusi lagi sebanyak dua kali.\n"
      ],
      "metadata": {
        "id": "Otq6GCEutgOH"
      }
    },
    {
      "cell_type": "markdown",
      "source": [
        "# **While loop**\n",
        "Dalam bahasa pemrograman Python, terdapat metode loop atau iterator yang lain, yaitu while loop. Kita pun dapat memberikan hasil yang sama seperti yang telah kita lakukan pada for loop dengan menggunakan while loop, seperti contoh di bawah ini:"
      ],
      "metadata": {
        "id": "e_BYNckqwjIF"
      }
    },
    {
      "cell_type": "code",
      "source": [
        "i = 0\n",
        "while i < 3:\n",
        "  print(\"Angka\", i)\n",
        "  i += 1\n"
      ],
      "metadata": {
        "colab": {
          "base_uri": "https://localhost:8080/"
        },
        "id": "OXE-EM7Ow57C",
        "outputId": "3f7096ba-5bc0-4d08-c29b-a74b6844ee92"
      },
      "execution_count": 6,
      "outputs": [
        {
          "output_type": "stream",
          "name": "stdout",
          "text": [
            "Angka 0\n",
            "Angka 1\n",
            "Angka 2\n"
          ]
        }
      ]
    },
    {
      "cell_type": "markdown",
      "source": [
        "Perlu diperhatikan bahwa, setiap kali kita menggunakan perintah while loop. Kita harus menambahkan statement increment atau statement yang dapat menghentikan loop pada titik tertentu. Jika kita tidak menggunakannya, maka proses loop akan berjalan selama nya."
      ],
      "metadata": {
        "id": "q02j-Ob9w7cv"
      }
    },
    {
      "cell_type": "markdown",
      "source": [
        "Cara lain untuk menghentikan loop adalah dengan menambahkan statement break di dalam while loop. Perintah ini akan menghentikan loop seperti pada contoh di bawah ini."
      ],
      "metadata": {
        "id": "5hdi2mtExFWQ"
      }
    },
    {
      "cell_type": "code",
      "source": [
        "i = 0\n",
        "while i < 3:\n",
        "    if i == 3:\n",
        "           break\n",
        "    print(\"Angka\", i)\n",
        "    i += 1\n"
      ],
      "metadata": {
        "colab": {
          "base_uri": "https://localhost:8080/"
        },
        "id": "yvB6vEq8xHck",
        "outputId": "0aa1b932-5b40-4b6e-dfa8-a783d7b7f5e6"
      },
      "execution_count": 7,
      "outputs": [
        {
          "output_type": "stream",
          "name": "stdout",
          "text": [
            "Angka 0\n",
            "Angka 1\n",
            "Angka 2\n"
          ]
        }
      ]
    },
    {
      "cell_type": "markdown",
      "source": [
        "Di sini kita menghentikan while loop ketika intrepreter membaca nilai dari i , yaitu 4 (lebih dari 3)."
      ],
      "metadata": {
        "id": "kW1fAp99xQWW"
      }
    },
    {
      "cell_type": "markdown",
      "source": [
        "Contoh lainnya adalah dengan menambahkan statement else di dalam while loop. Statement ini akan di eksekusi setelah while loop selesai."
      ],
      "metadata": {
        "id": "i5QJ4nL9xXBF"
      }
    },
    {
      "cell_type": "code",
      "source": [
        "i = 0\n",
        "while i < 3:\n",
        "    print(\"Angka\", i)\n",
        "    i += 1\n",
        "else:\n",
        "    print(\"Angka lebih besar dari 2\")\n"
      ],
      "metadata": {
        "colab": {
          "base_uri": "https://localhost:8080/"
        },
        "id": "XM8n1XCkxYHe",
        "outputId": "a47640b0-092d-44c3-ceef-1fcff69f43d4"
      },
      "execution_count": 8,
      "outputs": [
        {
          "output_type": "stream",
          "name": "stdout",
          "text": [
            "Angka 0\n",
            "Angka 1\n",
            "Angka 2\n",
            "Angka lebih besar dari 2\n"
          ]
        }
      ]
    },
    {
      "cell_type": "markdown",
      "source": [
        "Selanjutnya adalah statement continue. Statement ini dapat digunakan untuk melewati proses eksekusi yang sedang berjalan dan melanjutkan pada baris setelahnya."
      ],
      "metadata": {
        "id": "-pyrDTLixdNy"
      }
    },
    {
      "cell_type": "code",
      "source": [
        "i = 0\n",
        "while i < 5:\n",
        "  i += 1\n",
        "  if i == 2:\n",
        "       continue\n",
        "  print(\"Angka\", i)\n"
      ],
      "metadata": {
        "colab": {
          "base_uri": "https://localhost:8080/"
        },
        "id": "VsbbP0dNxfos",
        "outputId": "2c2068af-41b8-4c6e-d136-7f21579d8884"
      },
      "execution_count": 9,
      "outputs": [
        {
          "output_type": "stream",
          "name": "stdout",
          "text": [
            "Angka 1\n",
            "Angka 3\n",
            "Angka 4\n",
            "Angka 5\n"
          ]
        }
      ]
    }
  ]
}