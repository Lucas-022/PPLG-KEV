{
  "nbformat": 4,
  "nbformat_minor": 0,
  "metadata": {
    "colab": {
      "provenance": [],
      "authorship_tag": "ABX9TyNf+b48nhe8eSNkU0hr5iGL",
      "include_colab_link": true
    },
    "kernelspec": {
      "name": "python3",
      "display_name": "Python 3"
    },
    "language_info": {
      "name": "python"
    }
  },
  "cells": [
    {
      "cell_type": "markdown",
      "metadata": {
        "id": "view-in-github",
        "colab_type": "text"
      },
      "source": [
        "<a href=\"https://colab.research.google.com/github/Yuxi-chan/PPLG-KEV/blob/main/Soal_4.ipynb\" target=\"_parent\"><img src=\"https://colab.research.google.com/assets/colab-badge.svg\" alt=\"Open In Colab\"/></a>"
      ]
    },
    {
      "cell_type": "markdown",
      "source": [
        "4. Buatlah sebuah program sederhana menggunakan perulangan dan buatkan algoritma dan flowchartnya?"
      ],
      "metadata": {
        "id": "UtWnKzBb60ra"
      }
    },
    {
      "cell_type": "code",
      "source": [
        "bilangan = [i for i in range(1, 5)]\n",
        "\n",
        "i = 0\n",
        "while i < len(bilangan):\n",
        "    if bilangan[i] % 2 == 0:\n",
        "        print(bilangan[i], \"bilangan genap\")\n",
        "    else:\n",
        "        print(bilangan[i], \"bilangan ganjil\")\n",
        "    i += 1\n"
      ],
      "metadata": {
        "id": "Wqnz_rPr68Wj",
        "colab": {
          "base_uri": "https://localhost:8080/"
        },
        "outputId": "e878d5f1-5a0e-48be-c5d9-4890a8c567c8"
      },
      "execution_count": 7,
      "outputs": [
        {
          "output_type": "stream",
          "name": "stdout",
          "text": [
            "1 bilangan ganjil\n",
            "2 bilangan genap\n",
            "3 bilangan ganjil\n",
            "4 bilangan genap\n"
          ]
        }
      ]
    },
    {
      "cell_type": "markdown",
      "source": [
        "# Algoritma:\n",
        "- Input data.\n",
        "- Data akan mengulang sesuai angka yang di input."
      ],
      "metadata": {
        "id": "u5D6J6MRQgiv"
      }
    },
    {
      "cell_type": "markdown",
      "source": [
        "![Blank diagram (4).png](data:image/png;base64,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)"
      ],
      "metadata": {
        "id": "S0sHuuVqQrbw"
      }
    }
  ]
}