{
  "nbformat": 4,
  "nbformat_minor": 0,
  "metadata": {
    "colab": {
      "provenance": [],
      "authorship_tag": "ABX9TyMG21odRtdMyU529wFA8HTF",
      "include_colab_link": true
    },
    "kernelspec": {
      "name": "python3",
      "display_name": "Python 3"
    },
    "language_info": {
      "name": "python"
    }
  },
  "cells": [
    {
      "cell_type": "markdown",
      "metadata": {
        "id": "view-in-github",
        "colab_type": "text"
      },
      "source": [
        "<a href=\"https://colab.research.google.com/github/Yuxi-chan/PPLG-KEV/blob/main/Soal_1.ipynb\" target=\"_parent\"><img src=\"https://colab.research.google.com/assets/colab-badge.svg\" alt=\"Open In Colab\"/></a>"
      ]
    },
    {
      "cell_type": "markdown",
      "source": [
        "1. Buatlah sebuah program untuk menentukan bilangan positif, bilangan negatif, dan bilangan nol?\n"
      ],
      "metadata": {
        "id": "0DgOO0PCLyHJ"
      }
    },
    {
      "cell_type": "code",
      "source": [
        "angka = 0\n",
        "if angka > 0:\n",
        "    print(\"Bilangan ini adalah bilangan positif\")\n",
        "elif angka == 0:\n",
        "    print(\"Bilangan ini adalah bilangan negatif\")\n",
        "else:\n",
        "    print(\"Bilangan ini adalah bilangan nol\")\n"
      ],
      "metadata": {
        "colab": {
          "base_uri": "https://localhost:8080/"
        },
        "id": "yONDmBDgMyOV",
        "outputId": "880cc225-ab37-48d7-8a6c-2233d8f337d0"
      },
      "execution_count": null,
      "outputs": [
        {
          "output_type": "stream",
          "name": "stdout",
          "text": [
            "Bilangan ini adalah bilangan negatif\n"
          ]
        }
      ]
    },
    {
      "cell_type": "markdown",
      "source": [
        "Contoh program untuk bilangan positif, bilangan negatif, dan bilangan nol.\n",
        "\n",
        "```\n",
        "angka = 0\n",
        "if angka > 0:\n",
        "    print(\"Bilangan ini adalah bilangan positif\")\n",
        "elif angka == 0:\n",
        "    print(\"Bilangan ini adalah bilangan negatif\")\n",
        "else:\n",
        "    print(\"Bilangan ini adalah bilangan nol\")\n",
        "```\n",
        "\n",
        "- Angka lebih dari 0 = Positif\n",
        "- Angka 0 = Netral\n",
        "- Angka kurang dari 0 = Negatif"
      ],
      "metadata": {
        "id": "JmsLmBOZbPZn"
      }
    }
  ]
}